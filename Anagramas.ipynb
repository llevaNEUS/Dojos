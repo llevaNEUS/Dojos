{
 "metadata": {
  "celltoolbar": "Slideshow",
  "name": "",
  "signature": "sha256:73076a2aa1e3350596c6728092e814888719441c46a4ac30f599c98877bb48f0"
 },
 "nbformat": 3,
 "nbformat_minor": 0,
 "worksheets": [
  {
   "cells": [
    {
     "cell_type": "markdown",
     "metadata": {
      "slideshow": {
       "slide_type": "slide"
      }
     },
     "source": [
      "<center>\n",
      "<h1>CODING DOJO:</h1>  \n",
      "<h1>Anagramas</h1>\n",
      "</center>"
     ]
    },
    {
     "cell_type": "markdown",
     "metadata": {
      "slideshow": {
       "slide_type": "slide"
      }
     },
     "source": [
      "El problema consiste en dada una cadena de caracteres, por ejemplo **'abc'** debemos obtener todos sus posibles anagramas.\n",
      "\n",
      "**INPUT: 'abc'**  \n",
      "**OPTPUT: ['abc', 'acb', 'bac', 'bca', 'cab', 'cba']**\n",
      "\n",
      "Antes de poneros manos a la obra recordad en pensar el caso mas sencillo (BABY STEPS) y pensad bien los test. Si los pens\u00e1is bien seguramente casi no los tendr\u00e9is que modificar (o muy poco) en toda la sesi\u00f3n. \n",
      "\n",
      "###Los requisitos/restricciones pueden ir variando a lo largo de la sesi\u00f3n."
     ]
    },
    {
     "cell_type": "markdown",
     "metadata": {
      "slideshow": {
       "slide_type": "slide"
      }
     },
     "source": [
      "#DEMO  \n",
      "\n",
      "C\u00f3ma ya hemos dicho, debemos pensar en el caso mas simple:\n",
      "    \n",
      "**INPUT: 'a'**  \n",
      "**OPTPUT: ['a']**\n",
      "\n",
      "Y tambi\u00e9n no podemos olvidar el caso de cadena vac\u00eda ''\n",
      "\n",
      "**INPUT: ''**  \n",
      "**OPTPUT: ['']**"
     ]
    },
    {
     "cell_type": "code",
     "collapsed": false,
     "input": [
      "def aprox1(characters): #caso mas simple\n",
      "        return [characters]"
     ],
     "language": "python",
     "metadata": {
      "slideshow": {
       "slide_type": "subslide"
      }
     },
     "outputs": [],
     "prompt_number": 1
    },
    {
     "cell_type": "code",
     "collapsed": false,
     "input": [
      "aprox1('')"
     ],
     "language": "python",
     "metadata": {
      "slideshow": {
       "slide_type": "fragment"
      }
     },
     "outputs": [
      {
       "metadata": {},
       "output_type": "pyout",
       "prompt_number": 2,
       "text": [
        "['']"
       ]
      }
     ],
     "prompt_number": 2
    },
    {
     "cell_type": "code",
     "collapsed": false,
     "input": [
      "aprox1('a')"
     ],
     "language": "python",
     "metadata": {
      "slideshow": {
       "slide_type": "fragment"
      }
     },
     "outputs": [
      {
       "metadata": {},
       "output_type": "pyout",
       "prompt_number": 3,
       "text": [
        "['a']"
       ]
      }
     ],
     "prompt_number": 3
    },
    {
     "cell_type": "code",
     "collapsed": false,
     "input": [
      "import unittest\n",
      "from unittest import TestCase\n",
      "\n",
      "class TestAnagrams(TestCase): #test\n",
      "    def test_aprox1(self):\n",
      "        self.assertEqual(['a'],aprox1('a'))\n",
      "        self.assertEqual([''],aprox1(''))"
     ],
     "language": "python",
     "metadata": {
      "slideshow": {
       "slide_type": "fragment"
      }
     },
     "outputs": [],
     "prompt_number": 25
    },
    {
     "cell_type": "code",
     "collapsed": false,
     "input": [
      "aprox1('ab') #debe darnos un error"
     ],
     "language": "python",
     "metadata": {
      "slideshow": {
       "slide_type": "subslide"
      }
     },
     "outputs": [
      {
       "metadata": {},
       "output_type": "pyout",
       "prompt_number": 5,
       "text": [
        "['ab']"
       ]
      }
     ],
     "prompt_number": 5
    },
    {
     "cell_type": "markdown",
     "metadata": {
      "slideshow": {
       "slide_type": "fragment"
      }
     },
     "source": [
      "L\u00f3gicamente, cuando introducimos una cadena m\u00e1s larga 'ab' no obtenemos el valor correcto.  \n",
      "\n",
      "##C\u00f3mo deberia ser el c\u00f3digo de test para detectar este error?"
     ]
    },
    {
     "cell_type": "markdown",
     "metadata": {
      "slideshow": {
       "slide_type": "slide"
      }
     },
     "source": [
      "###Veamos una posible solucion al problema:"
     ]
    },
    {
     "cell_type": "markdown",
     "metadata": {
      "slideshow": {
       "slide_type": "fragment"
      }
     },
     "source": [
      "La podemos llamar soluci\u00f3n a \"Pico y Pala\" "
     ]
    },
    {
     "cell_type": "code",
     "collapsed": false,
     "input": [
      "def aprox2(characters): \n",
      "    if len(characters)==1:\n",
      "        return characters\n",
      "    elif len(characters)==2:\n",
      "        return [characters[0]+characters[1],characters[1]+characters[0]]\n",
      "    elif len(characters)==3:\n",
      "        return [characters[0]+characters[1]+characters[2],\n",
      "                characters[0]+characters[2]+characters[1],\n",
      "                characters[1]+characters[0]+characters[2],\n",
      "                characters[1]+characters[2]+characters[0],\n",
      "                characters[2]+characters[0]+characters[1],\n",
      "                characters[2]+characters[1]+characters[0],\n",
      "                ]\n",
      "    else:\n",
      "        return ['']"
     ],
     "language": "python",
     "metadata": {
      "slideshow": {
       "slide_type": "fragment"
      }
     },
     "outputs": [],
     "prompt_number": 6
    },
    {
     "cell_type": "code",
     "collapsed": false,
     "input": [
      "aprox2('ab')"
     ],
     "language": "python",
     "metadata": {
      "slideshow": {
       "slide_type": "fragment"
      }
     },
     "outputs": [
      {
       "metadata": {},
       "output_type": "pyout",
       "prompt_number": 7,
       "text": [
        "['ab', 'ba']"
       ]
      }
     ],
     "prompt_number": 7
    },
    {
     "cell_type": "code",
     "collapsed": false,
     "input": [
      "aprox2('abc')"
     ],
     "language": "python",
     "metadata": {
      "slideshow": {
       "slide_type": "fragment"
      }
     },
     "outputs": [
      {
       "metadata": {},
       "output_type": "pyout",
       "prompt_number": 8,
       "text": [
        "['abc', 'acb', 'bac', 'bca', 'cab', 'cba']"
       ]
      }
     ],
     "prompt_number": 8
    },
    {
     "cell_type": "markdown",
     "metadata": {
      "slideshow": {
       "slide_type": "fragment"
      }
     },
     "source": [
      "####NO ES UNA SOLUCION ELEGANTE PERO FUNCIONA!!! (para longitud <=3)"
     ]
    },
    {
     "cell_type": "markdown",
     "metadata": {
      "slideshow": {
       "slide_type": "slide"
      }
     },
     "source": [
      "####Veamos una solucion un poco mas ELEGANTE"
     ]
    },
    {
     "cell_type": "code",
     "collapsed": false,
     "input": [
      "import itertools\n",
      "\n",
      "def aprox3(characters):\n",
      "    return [''.join(i) for i in itertools.permutations(characters, len(characters))]   "
     ],
     "language": "python",
     "metadata": {
      "slideshow": {
       "slide_type": "fragment"
      }
     },
     "outputs": [],
     "prompt_number": 9
    },
    {
     "cell_type": "code",
     "collapsed": false,
     "input": [
      "aprox3('abc')"
     ],
     "language": "python",
     "metadata": {
      "slideshow": {
       "slide_type": "fragment"
      }
     },
     "outputs": [
      {
       "metadata": {},
       "output_type": "pyout",
       "prompt_number": 10,
       "text": [
        "['abc', 'acb', 'bac', 'bca', 'cab', 'cba']"
       ]
      }
     ],
     "prompt_number": 10
    },
    {
     "cell_type": "markdown",
     "metadata": {
      "slideshow": {
       "slide_type": "fragment"
      }
     },
     "source": [
      "Veamos el test:"
     ]
    },
    {
     "cell_type": "code",
     "collapsed": false,
     "input": [
      "class TestAnagrams(TestCase):\n",
      "    \n",
      "    def test_aprox1(self):\n",
      "        self.assertEqual(['a'],aprox1('a'))\n",
      "        self.assertEqual([''],aprox1(''))\n",
      "        \n",
      "    def test_aprox3(self):\n",
      "        self.assertEqual(6,len(set(aprox3('abc')))) #hay 6 soluciones y son diferentes\n",
      "        for word in aprox3('abc'):\n",
      "            for char in set('abc'):\n",
      "                self.assertTrue(char in word)"
     ],
     "language": "python",
     "metadata": {
      "slideshow": {
       "slide_type": "fragment"
      }
     },
     "outputs": [],
     "prompt_number": 11
    },
    {
     "cell_type": "markdown",
     "metadata": {
      "slideshow": {
       "slide_type": "slide"
      }
     },
     "source": [
      "#Podr\u00edais resolver el mismo problema sin utilizar librerias extras?"
     ]
    },
    {
     "cell_type": "code",
     "collapsed": false,
     "input": [
      "def aprox4(characters): \n"
     ],
     "language": "python",
     "metadata": {
      "slideshow": {
       "slide_type": "skip"
      }
     },
     "outputs": [
      {
       "ename": "SyntaxError",
       "evalue": "unexpected EOF while parsing (<ipython-input-12-d8f06018099b>, line 1)",
       "output_type": "pyerr",
       "traceback": [
        "\u001b[1;36m  File \u001b[1;32m\"<ipython-input-12-d8f06018099b>\"\u001b[1;36m, line \u001b[1;32m1\u001b[0m\n\u001b[1;33m    def aprox4(characters):\u001b[0m\n\u001b[1;37m                            ^\u001b[0m\n\u001b[1;31mSyntaxError\u001b[0m\u001b[1;31m:\u001b[0m unexpected EOF while parsing\n"
       ]
      }
     ],
     "prompt_number": 12
    },
    {
     "cell_type": "code",
     "collapsed": false,
     "input": [
      "aprox4('abc')"
     ],
     "language": "python",
     "metadata": {
      "slideshow": {
       "slide_type": "skip"
      }
     },
     "outputs": [
      {
       "ename": "NameError",
       "evalue": "name 'aprox4' is not defined",
       "output_type": "pyerr",
       "traceback": [
        "\u001b[1;31m---------------------------------------------------------------------------\u001b[0m\n\u001b[1;31mNameError\u001b[0m                                 Traceback (most recent call last)",
        "\u001b[1;32m<ipython-input-13-e6ff80aef2c6>\u001b[0m in \u001b[0;36m<module>\u001b[1;34m()\u001b[0m\n\u001b[1;32m----> 1\u001b[1;33m \u001b[0maprox4\u001b[0m\u001b[1;33m(\u001b[0m\u001b[1;34m'abc'\u001b[0m\u001b[1;33m)\u001b[0m\u001b[1;33m\u001b[0m\u001b[0m\n\u001b[0m",
        "\u001b[1;31mNameError\u001b[0m: name 'aprox4' is not defined"
       ]
      }
     ],
     "prompt_number": 13
    },
    {
     "cell_type": "markdown",
     "metadata": {
      "slideshow": {
       "slide_type": "slide"
      }
     },
     "source": [
      "#Veamos algunas maneras MUY ELEGANTES de hacerlo.\n",
      "##(no os asust\u00e9is, no se esperaba que llegarais a algo parecido)"
     ]
    },
    {
     "cell_type": "markdown",
     "metadata": {
      "slideshow": {
       "slide_type": "subslide"
      }
     },
     "source": [
      "###Soluci\u00f3n ulizando funciones recursivas"
     ]
    },
    {
     "cell_type": "code",
     "collapsed": false,
     "input": [
      "def aprox5(characters):\n",
      "    anagrams = []\n",
      "    \n",
      "    if len(characters)==1:\n",
      "        anagrams = [characters]\n",
      "        \n",
      "    else:\n",
      "        for i,char in enumerate(characters):\n",
      "            for perm in aprox5(characters[:i]+characters[i+1:]):\n",
      "                anagrams += [char + perm]\n",
      "                \n",
      "    return anagrams"
     ],
     "language": "python",
     "metadata": {
      "slideshow": {
       "slide_type": "fragment"
      }
     },
     "outputs": [],
     "prompt_number": 14
    },
    {
     "cell_type": "code",
     "collapsed": false,
     "input": [
      "aprox5('abc')"
     ],
     "language": "python",
     "metadata": {
      "slideshow": {
       "slide_type": "fragment"
      }
     },
     "outputs": [
      {
       "metadata": {},
       "output_type": "pyout",
       "prompt_number": 15,
       "text": [
        "['abc', 'acb', 'bac', 'bca', 'cab', 'cba']"
       ]
      }
     ],
     "prompt_number": 15
    },
    {
     "cell_type": "markdown",
     "metadata": {
      "slideshow": {
       "slide_type": "subslide"
      }
     },
     "source": [
      "###Soluci\u00f3n ulizando generadores"
     ]
    },
    {
     "cell_type": "code",
     "collapsed": false,
     "input": [
      "def aprox6(characters): \n",
      "    if len(characters) ==1:\n",
      "        yield characters\n",
      "    else:\n",
      "        for perm in aprox6(characters[1:]):\n",
      "            for i in range(len(characters)):\n",
      "                yield perm[:i] + characters[0:1] + perm[i:]"
     ],
     "language": "python",
     "metadata": {
      "slideshow": {
       "slide_type": "fragment"
      }
     },
     "outputs": [],
     "prompt_number": 16
    },
    {
     "cell_type": "code",
     "collapsed": false,
     "input": [
      "print [i for i in aprox6('abc')]"
     ],
     "language": "python",
     "metadata": {
      "slideshow": {
       "slide_type": "fragment"
      }
     },
     "outputs": [
      {
       "output_type": "stream",
       "stream": "stdout",
       "text": [
        "['abc', 'bac', 'bca', 'acb', 'cab', 'cba']\n"
       ]
      }
     ],
     "prompt_number": 17
    },
    {
     "cell_type": "code",
     "collapsed": false,
     "input": [
      "f=aprox6('abc')\n",
      "f.next()"
     ],
     "language": "python",
     "metadata": {
      "slideshow": {
       "slide_type": "fragment"
      }
     },
     "outputs": [
      {
       "metadata": {},
       "output_type": "pyout",
       "prompt_number": 20,
       "text": [
        "'abc'"
       ]
      }
     ],
     "prompt_number": 20
    },
    {
     "cell_type": "code",
     "collapsed": false,
     "input": [
      "f.next()"
     ],
     "language": "python",
     "metadata": {
      "slideshow": {
       "slide_type": "fragment"
      }
     },
     "outputs": [
      {
       "metadata": {},
       "output_type": "pyout",
       "prompt_number": 19,
       "text": [
        "'bac'"
       ]
      }
     ],
     "prompt_number": 19
    },
    {
     "cell_type": "markdown",
     "metadata": {
      "slideshow": {
       "slide_type": "slide"
      }
     },
     "source": [
      "#Finalmente...   \n",
      "###Debemos resolver el problema sin que aparezcan anagramas repetidos\n",
      "\n",
      "Veamos un ejemplo:\n",
      "\n",
      "**INPUT: 'abb'**  \n",
      "**OUTPUT: ['abb', 'bab', 'bba']**"
     ]
    },
    {
     "cell_type": "code",
     "collapsed": false,
     "input": [
      "def aprox7(characters):\n",
      "    anagrams = aprox3(characters)\n",
      "    print list(set(anagrams))"
     ],
     "language": "python",
     "metadata": {
      "slideshow": {
       "slide_type": "subslide"
      }
     },
     "outputs": [],
     "prompt_number": 7
    },
    {
     "cell_type": "code",
     "collapsed": false,
     "input": [
      "aprox7('abb')"
     ],
     "language": "python",
     "metadata": {
      "slideshow": {
       "slide_type": "fragment"
      }
     },
     "outputs": [
      {
       "output_type": "stream",
       "stream": "stdout",
       "text": [
        "['abb', 'bab', 'bba']\n"
       ]
      }
     ],
     "prompt_number": 8
    },
    {
     "cell_type": "markdown",
     "metadata": {
      "slideshow": {
       "slide_type": "slide"
      }
     },
     "source": [
      "#Para pensar...\n",
      "###C\u00f3mo podr\u00edamos devolver los anagramas correspondientes a palabras v\u00e1lidas en un idioma?"
     ]
    },
    {
     "cell_type": "code",
     "collapsed": false,
     "input": [
      "#TESTS"
     ],
     "language": "python",
     "metadata": {
      "slideshow": {
       "slide_type": "skip"
      }
     },
     "outputs": []
    },
    {
     "cell_type": "code",
     "collapsed": false,
     "input": [
      "import unittest\n",
      "from unittest import TestCase"
     ],
     "language": "python",
     "metadata": {
      "slideshow": {
       "slide_type": "skip"
      }
     },
     "outputs": [],
     "prompt_number": 4
    },
    {
     "cell_type": "code",
     "collapsed": false,
     "input": [
      "class TestAnagrams(TestCase):\n",
      "    \n",
      "    def test_aprox1(self):\n",
      "        self.assertEqual(['a'],aprox1('a'))\n",
      "        self.assertEqual([''],aprox1(''))\n",
      "        \n",
      "    def test_aprox2(self):\n",
      "        self.assertEqual(6,len(aprox2('abc')))\n",
      "        \n",
      "    def test_aprox3(self):\n",
      "        self.assertEqual(6,len(set(aprox3('abc')))) #comprovem que son 6 y son diferents\n",
      "        for word in aprox3('abc'):\n",
      "            for char in set('abc'):\n",
      "                self.assertTrue(char in word)\n",
      "def suite():\n",
      "    \n",
      "    testcases = [TestAnagrams]\n",
      "    \n",
      "    suites = unittest.TestSuite([unittest.TestLoader().loadTestsFromTestCase(testcase) for testcase in testcases])\n",
      "    return suites  \n",
      "\n",
      "# use the TextTestRunner to run suite\n",
      "testresults = unittest.TextTestRunner().run(suite()) "
     ],
     "language": "python",
     "metadata": {
      "slideshow": {
       "slide_type": "skip"
      }
     },
     "outputs": [
      {
       "output_type": "stream",
       "stream": "stderr",
       "text": [
        "."
       ]
      },
      {
       "output_type": "stream",
       "stream": "stderr",
       "text": [
        "."
       ]
      },
      {
       "output_type": "stream",
       "stream": "stderr",
       "text": [
        "."
       ]
      },
      {
       "output_type": "stream",
       "stream": "stderr",
       "text": [
        "\n",
        "----------------------------------------------------------------------\n",
        "Ran 3 tests in 0.002s\n",
        "\n",
        "OK\n"
       ]
      }
     ],
     "prompt_number": 27
    },
    {
     "cell_type": "code",
     "collapsed": false,
     "input": [
      "!ipython nbconvert Anagramas.ipynb --to slides --post serve"
     ],
     "language": "python",
     "metadata": {
      "slideshow": {
       "slide_type": "skip"
      }
     },
     "outputs": [
      {
       "output_type": "stream",
       "stream": "stdout",
       "text": [
        "[NbConvertApp] Using existing profile dir: u'/home/nuria/.ipython/profile_default'\r\n",
        "[NbConvertApp] Converting notebook Anagramas.ipynb to slides\r\n",
        "[NbConvertApp] Support files will be in Anagramas_files/\r\n"
       ]
      },
      {
       "output_type": "stream",
       "stream": "stdout",
       "text": [
        "[NbConvertApp] Loaded template slides_reveal.tpl\r\n"
       ]
      },
      {
       "output_type": "stream",
       "stream": "stdout",
       "text": [
        "/usr/local/lib/python2.7/dist-packages/IPython/nbconvert/filters/markdown.py:78: UserWarning: Node.js 0.9.12 or later wasn't found.\r\n",
        "Nbconvert will try to use Pandoc instead.\r\n",
        "  \"Nbconvert will try to use Pandoc instead.\")\r\n",
        "/usr/local/lib/python2.7/dist-packages/IPython/nbconvert/utils/pandoc.py:63: RuntimeWarning: You are using an old version of pandoc (1.9.1)\r\n",
        "Recommended version is 1.12.1.\r\n",
        "Try updating.http://johnmacfarlane.net/pandoc/installing.html.\r\n",
        "Continuing with doubts...\r\n",
        "  check_pandoc_version()\r\n"
       ]
      },
      {
       "output_type": "stream",
       "stream": "stdout",
       "text": [
        "[NbConvertApp] Writing 224180 bytes to Anagramas.slides.html\r\n",
        "[NbConvertApp] Redirecting reveal.js requests to https://cdn.jsdelivr.net/reveal.js/2.5.0\r\n"
       ]
      },
      {
       "output_type": "stream",
       "stream": "stdout",
       "text": [
        "Serving your slides at http://127.0.0.1:8000/Anagramas.slides.html\r\n",
        "Use Control-C to stop this server\r\n"
       ]
      },
      {
       "output_type": "stream",
       "stream": "stdout",
       "text": [
        "WARNING:tornado.access:404 GET /custom.css (127.0.0.1) 0.94ms\r\n"
       ]
      },
      {
       "output_type": "stream",
       "stream": "stdout",
       "text": [
        "WARNING:tornado.access:404 GET /custom.css (127.0.0.1) 0.71ms\r\n"
       ]
      }
     ]
    },
    {
     "cell_type": "code",
     "collapsed": false,
     "input": [],
     "language": "python",
     "metadata": {},
     "outputs": []
    }
   ],
   "metadata": {}
  }
 ]
}