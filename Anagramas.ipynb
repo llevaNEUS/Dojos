{
 "metadata": {
  "celltoolbar": "Slideshow",
  "name": "",
  "signature": "sha256:a14a7659a5f48b0fb101ce9e3217dc9cfde8f783e27f0cbb472253860660a374"
 },
 "nbformat": 3,
 "nbformat_minor": 0,
 "worksheets": [
  {
   "cells": [
    {
     "cell_type": "markdown",
     "metadata": {
      "slideshow": {
       "slide_type": "slide"
      }
     },
     "source": [
      "<center>\n",
      "<h1>CODING DOJO:</h1>  \n",
      "<h1>Anagramas</h1>\n",
      "</center>"
     ]
    },
    {
     "cell_type": "markdown",
     "metadata": {
      "slideshow": {
       "slide_type": "slide"
      }
     },
     "source": [
      "El problema consiste en dada una cadena de caracteres, por ejemplo **'abc'** debemos obtener todos sus posibles anagramas.\n",
      "\n",
      "**INPUT: 'abc'**  \n",
      "**OPTPUT: ['abc', 'acb', 'bac', 'bca', 'cab', 'cba']**\n",
      "\n",
      "Antes de poneros manos a la obra recordad en pensar el caso mas sencillo (BABY STEPS) y pensad bien los test. Si los pens\u00e1is bien seguramente casi no los tendr\u00e9is que modificar (o muy poco) en toda la sesi\u00f3n. \n",
      "\n",
      "###Los requisitos/restricciones pueden ir variando a lo largo de la sesi\u00f3n."
     ]
    },
    {
     "cell_type": "markdown",
     "metadata": {
      "slideshow": {
       "slide_type": "slide"
      }
     },
     "source": [
      "##Veamos vuestros primeros \"BABY STEPS\":"
     ]
    },
    {
     "cell_type": "code",
     "collapsed": false,
     "input": [
      "def anagramize(word): \n",
      "    return"
     ],
     "language": "python",
     "metadata": {
      "slideshow": {
       "slide_type": "fragment"
      }
     },
     "outputs": [],
     "prompt_number": 2
    },
    {
     "cell_type": "markdown",
     "metadata": {
      "slideshow": {
       "slide_type": "fragment"
      }
     },
     "source": [
      "###A partir de nuestra funci\u00f3n inicial pensemos en el test m\u00e1s b\u00e1sico que deberia pasar?"
     ]
    },
    {
     "cell_type": "code",
     "collapsed": false,
     "input": [
      "import unittest\n",
      "from unittest import TestCase\n",
      "\n",
      "class TestAnagrams(unittest.TestCase):\n",
      "    def test_anagramize_empty(self):\n",
      "            '''Tests anagrams for empty string'''\n",
      "            self.assertEqual([''], anagramize(''))"
     ],
     "language": "python",
     "metadata": {
      "slideshow": {
       "slide_type": "subslide"
      }
     },
     "outputs": [],
     "prompt_number": 6
    },
    {
     "cell_type": "code",
     "collapsed": false,
     "input": [
      "def suite():\n",
      "    \n",
      "    testcases = [TestAnagrams]\n",
      "    \n",
      "    suites = unittest.TestSuite([unittest.TestLoader().loadTestsFromTestCase(testcase) for testcase in testcases])\n",
      "    return suites  "
     ],
     "language": "python",
     "metadata": {
      "slideshow": {
       "slide_type": "skip"
      }
     },
     "outputs": [],
     "prompt_number": 7
    },
    {
     "cell_type": "code",
     "collapsed": false,
     "input": [
      "# use the TextTestRunner to run suite\n",
      "testresults = unittest.TextTestRunner().run(suite()) "
     ],
     "language": "python",
     "metadata": {
      "slideshow": {
       "slide_type": "fragment"
      }
     },
     "outputs": [
      {
       "output_type": "stream",
       "stream": "stderr",
       "text": [
        "F"
       ]
      },
      {
       "output_type": "stream",
       "stream": "stderr",
       "text": [
        "\n",
        "======================================================================\n",
        "FAIL: test_anagramize_empty (__main__.TestAnagrams)\n",
        "Tests anagrams for empty string\n",
        "----------------------------------------------------------------------\n",
        "Traceback (most recent call last):\n",
        "  File \"<ipython-input-6-aefd05d33131>\", line 7, in test_anagramize_empty\n",
        "    self.assertEqual([''], anagramize(''))\n",
        "AssertionError: [''] != None\n",
        "\n",
        "----------------------------------------------------------------------\n",
        "Ran 1 test in 0.001s\n",
        "\n",
        "FAILED (failures=1)\n"
       ]
      }
     ],
     "prompt_number": 8
    },
    {
     "cell_type": "markdown",
     "metadata": {
      "slideshow": {
       "slide_type": "fragment"
      }
     },
     "source": [
      "##Todo empieza aqu\u00ed, con un test ROTO (sem\u00e1foro ROJO)"
     ]
    },
    {
     "cell_type": "markdown",
     "metadata": {
      "slideshow": {
       "slide_type": "slide"
      }
     },
     "source": [
      "##Cu\u00e1l ser\u00e1 el pr\u00f3ximo paso?"
     ]
    },
    {
     "cell_type": "code",
     "collapsed": false,
     "input": [
      "def anagramize(word): \n",
      "    return ['']"
     ],
     "language": "python",
     "metadata": {
      "slideshow": {
       "slide_type": "fragment"
      }
     },
     "outputs": [],
     "prompt_number": 12
    },
    {
     "cell_type": "markdown",
     "metadata": {
      "slideshow": {
       "slide_type": "fragment"
      }
     },
     "source": [
      "##Volvemos a correr el test anterior"
     ]
    },
    {
     "cell_type": "code",
     "collapsed": false,
     "input": [
      "testresults = unittest.TextTestRunner().run(suite()) "
     ],
     "language": "python",
     "metadata": {
      "slideshow": {
       "slide_type": "fragment"
      }
     },
     "outputs": [
      {
       "output_type": "stream",
       "stream": "stderr",
       "text": [
        "."
       ]
      },
      {
       "output_type": "stream",
       "stream": "stderr",
       "text": [
        "\n",
        "----------------------------------------------------------------------\n",
        "Ran 1 test in 0.001s\n",
        "\n",
        "OK\n"
       ]
      }
     ],
     "prompt_number": 13
    },
    {
     "cell_type": "markdown",
     "metadata": {
      "slideshow": {
       "slide_type": "fragment"
      }
     },
     "source": [
      "##Perfecto! Ya estamos en sem\u00e1foro VERDE!"
     ]
    },
    {
     "cell_type": "markdown",
     "metadata": {
      "slideshow": {
       "slide_type": "slide"
      }
     },
     "source": [
      "#Cu\u00e1l cre\u00e9is que es el pr\u00f3ximo paso l\u00f3gico?"
     ]
    },
    {
     "cell_type": "markdown",
     "metadata": {
      "slideshow": {
       "slide_type": "fragment"
      }
     },
     "source": [
      "##A\u00f1adir un nuevo xxx que rompa el test general"
     ]
    },
    {
     "cell_type": "code",
     "collapsed": false,
     "input": [
      "class TestAnagrams(unittest.TestCase):\n",
      "    def test_anagramize_empty(self):\n",
      "            '''Tests anagrams for empty string'''\n",
      "            self.assertEqual([''], anagramize(''))\n",
      "\n",
      "    def test_anagramize_1_char(self):\n",
      "            '''Tests anagrams for 1 char length string'''\n",
      "            self.assertEqual(['a'], anagramize('a'))"
     ],
     "language": "python",
     "metadata": {
      "slideshow": {
       "slide_type": "fragment"
      }
     },
     "outputs": [],
     "prompt_number": 14
    },
    {
     "cell_type": "markdown",
     "metadata": {
      "slideshow": {
       "slide_type": "slide"
      }
     },
     "source": [
      "##Volvemos a correr el test"
     ]
    },
    {
     "cell_type": "code",
     "collapsed": false,
     "input": [
      "testresults = unittest.TextTestRunner().run(suite())"
     ],
     "language": "python",
     "metadata": {
      "slideshow": {
       "slide_type": "fragment"
      }
     },
     "outputs": [
      {
       "output_type": "stream",
       "stream": "stderr",
       "text": [
        "F"
       ]
      },
      {
       "output_type": "stream",
       "stream": "stderr",
       "text": [
        "."
       ]
      },
      {
       "output_type": "stream",
       "stream": "stderr",
       "text": [
        "\n",
        "======================================================================\n",
        "FAIL: test_anagramize_1_char (__main__.TestAnagrams)\n",
        "Tests anagrams for 1 char length string\n",
        "----------------------------------------------------------------------\n",
        "Traceback (most recent call last):\n",
        "  File \"<ipython-input-14-a1daf5b94cbb>\", line 8, in test_anagramize_1_char\n",
        "    self.assertEqual(['a'], anagramize('a'))\n",
        "AssertionError: Lists differ: ['a'] != ['']\n",
        "\n",
        "First differing element 0:\n",
        "a\n",
        "\n",
        "\n",
        "- ['a']\n",
        "?   -\n",
        "\n",
        "+ ['']\n",
        "\n",
        "----------------------------------------------------------------------\n",
        "Ran 2 tests in 0.002s\n",
        "\n",
        "FAILED (failures=1)\n"
       ]
      }
     ],
     "prompt_number": 15
    },
    {
     "cell_type": "markdown",
     "metadata": {
      "slideshow": {
       "slide_type": "slide"
      }
     },
     "source": [
      "<center>\n",
      "<h1>Ahora os toca a vosotros</h1>\n",
      "</center>\n",
      "<h4>Deb\u00e9is arreglar el c\u00f3digo para pasar el test</h4>\n",
      "<h4>Realizad los pasos para que nuestra funci\u00f3n retorne correctamente el anagrama para palabras de longitud = 1 (con los test correspondientes)</h4>"
     ]
    },
    {
     "cell_type": "code",
     "collapsed": false,
     "input": [
      "def anagramize(word): \n",
      "    return [word]"
     ],
     "language": "python",
     "metadata": {
      "slideshow": {
       "slide_type": "skip"
      }
     },
     "outputs": [],
     "prompt_number": 18
    },
    {
     "cell_type": "markdown",
     "metadata": {
      "slideshow": {
       "slide_type": "slide"
      }
     },
     "source": [
      "<center>\n",
      "<h1>RETROSPECTIVA HASTA AQU\u00cd</h1>\n",
      "</center>"
     ]
    },
    {
     "cell_type": "markdown",
     "metadata": {
      "slideshow": {
       "slide_type": "slide"
      }
     },
     "source": [
      "##Vamos un paso m\u00e1s all\u00e1, pensemos un test para palabras de 2 car\u00e1cteres."
     ]
    },
    {
     "cell_type": "code",
     "collapsed": false,
     "input": [
      "class TestAnagrams(unittest.TestCase):\n",
      "    def test_anagramize_empty(self):\n",
      "            '''Tests anagrams for empty string'''\n",
      "            self.assertEqual([''], anagramize(''))\n",
      "\n",
      "    def test_anagramize_1_char(self):\n",
      "            '''Tests anagrams for 1 char length string'''\n",
      "            self.assertEqual(['a'], anagramize('a'))\n",
      "\n",
      "\n",
      "    def test_anagramize_2_chars(self):\n",
      "            '''Tests anagrams for 2 char lenght string'''\n",
      "            self.assertEqual(['ab', 'ba'], anagramize('ab'))"
     ],
     "language": "python",
     "metadata": {
      "slideshow": {
       "slide_type": "fragment"
      }
     },
     "outputs": [],
     "prompt_number": 19
    },
    {
     "cell_type": "code",
     "collapsed": false,
     "input": [
      "testresults = unittest.TextTestRunner().run(suite())"
     ],
     "language": "python",
     "metadata": {
      "slideshow": {
       "slide_type": "fragment"
      }
     },
     "outputs": [
      {
       "output_type": "stream",
       "stream": "stderr",
       "text": [
        "."
       ]
      },
      {
       "output_type": "stream",
       "stream": "stderr",
       "text": [
        "F"
       ]
      },
      {
       "output_type": "stream",
       "stream": "stderr",
       "text": [
        "."
       ]
      },
      {
       "output_type": "stream",
       "stream": "stderr",
       "text": [
        "\n",
        "======================================================================\n",
        "FAIL: test_anagramize_2_chars (__main__.TestAnagrams)\n",
        "Tests anagrams for 2 char lenght string\n",
        "----------------------------------------------------------------------\n",
        "Traceback (most recent call last):\n",
        "  File \"<ipython-input-19-45bfbc31c79a>\", line 13, in test_anagramize_2_chars\n",
        "    self.assertEqual(['ab', 'ba'], anagramize('ab'))\n",
        "AssertionError: Lists differ: ['ab', 'ba'] != ['ab']\n",
        "\n",
        "First list contains 1 additional elements.\n",
        "First extra element 1:\n",
        "ba\n",
        "\n",
        "- ['ab', 'ba']\n",
        "+ ['ab']\n",
        "\n",
        "----------------------------------------------------------------------\n",
        "Ran 3 tests in 0.002s\n",
        "\n",
        "FAILED (failures=1)\n"
       ]
      }
     ],
     "prompt_number": 20
    },
    {
     "cell_type": "markdown",
     "metadata": {
      "slideshow": {
       "slide_type": "slide"
      }
     },
     "source": [
      "<center>\n",
      "<h1>Ahora os toca a vosotros</h1>\n",
      "</center>\n",
      "\n",
      "<h3>Deb\u00e9is arreglar el c\u00f3digo para pasar el test</h3>\n",
      "<h3>Cre\u00e9is que se puede mejorar el test?</h3>"
     ]
    },
    {
     "cell_type": "markdown",
     "metadata": {
      "slideshow": {
       "slide_type": "slide"
      }
     },
     "source": [
      "<center>\n",
      "<h1>RETROSPECTIVA HASTA AQU\u00cd</h1>\n",
      "</center>"
     ]
    },
    {
     "cell_type": "markdown",
     "metadata": {
      "slideshow": {
       "slide_type": "slide"
      }
     },
     "source": [
      "<center>\n",
      "<h2>C\u00f3mo deber\u00edamos seguir para obtener el anagrama</h2>\n",
      "<h2>de una palabra de 3 car\u00e1cteres?</h2>\n",
      "</center>"
     ]
    },
    {
     "cell_type": "markdown",
     "metadata": {
      "slideshow": {
       "slide_type": "fragment"
      }
     },
     "source": [
      "<center>\n",
      "<h3>Ejem, pero sin utilizar librerias extras</h3>\n",
      "</center>"
     ]
    },
    {
     "cell_type": "markdown",
     "metadata": {
      "slideshow": {
       "slide_type": "slide"
      }
     },
     "source": [
      "<center>\n",
      "<h1>RETROSPECTIVA HASTA AQU\u00cd</h1>\n",
      "<h3>Veamos una posible soluci\u00f3n</h3>\n",
      "</center>"
     ]
    },
    {
     "cell_type": "markdown",
     "metadata": {
      "slideshow": {
       "slide_type": "subslide"
      }
     },
     "source": [
      "##Veamos una posible solucion al problema:"
     ]
    },
    {
     "cell_type": "markdown",
     "metadata": {
      "slideshow": {
       "slide_type": "fragment"
      }
     },
     "source": [
      "La podemos llamar soluci\u00f3n a \"Pico y Pala\" "
     ]
    },
    {
     "cell_type": "code",
     "collapsed": false,
     "input": [
      "def anagramize(word): \n",
      "    if len(word) < 2: \n",
      "        return [word] \n",
      "    \n",
      "    elif len(word) < 3: \n",
      "        return [word, word[::-1]] \n",
      "    \n",
      "    else: \n",
      "        return [ word, \n",
      "                word[0] + word[2] + word[1], \n",
      "                word[1] + word[0] + word[2], \n",
      "                word[1] + word[2] + word[0], \n",
      "                word[2] + word[0] + word[1], \n",
      "                word[::-1]]"
     ],
     "language": "python",
     "metadata": {
      "slideshow": {
       "slide_type": "fragment"
      }
     },
     "outputs": [],
     "prompt_number": 22
    },
    {
     "cell_type": "code",
     "collapsed": false,
     "input": [
      "class TestAnagrams(unittest.TestCase):\n",
      "    \n",
      "    #tests anteriores\n",
      "    def test_anagramize_3_chars(self):\n",
      "        self.assertEqual(6,len(set(anagramize('abc')))) #hay 6 soluciones y son diferentes\n",
      "        for word in anagramize('abc'):\n",
      "            for char in set('abc'):\n",
      "                self.assertIn(char,word)"
     ],
     "language": "python",
     "metadata": {
      "slideshow": {
       "slide_type": "subslide"
      }
     },
     "outputs": [],
     "prompt_number": 27
    },
    {
     "cell_type": "code",
     "collapsed": false,
     "input": [
      "testresults = unittest.TextTestRunner().run(suite())"
     ],
     "language": "python",
     "metadata": {
      "slideshow": {
       "slide_type": "fragment"
      }
     },
     "outputs": [
      {
       "output_type": "stream",
       "stream": "stderr",
       "text": [
        "."
       ]
      },
      {
       "output_type": "stream",
       "stream": "stderr",
       "text": [
        "\n",
        "----------------------------------------------------------------------\n",
        "Ran 1 test in 0.001s\n",
        "\n",
        "OK\n"
       ]
      }
     ],
     "prompt_number": 28
    },
    {
     "cell_type": "markdown",
     "metadata": {
      "slideshow": {
       "slide_type": "fragment"
      }
     },
     "source": [
      "####NO ES UNA SOLUCION ELEGANTE PERO FUNCIONA Y PASA LOS TEST!!"
     ]
    },
    {
     "cell_type": "code",
     "collapsed": false,
     "input": [],
     "language": "python",
     "metadata": {},
     "outputs": []
    },
    {
     "cell_type": "code",
     "collapsed": false,
     "input": [],
     "language": "python",
     "metadata": {},
     "outputs": []
    },
    {
     "cell_type": "code",
     "collapsed": false,
     "input": [],
     "language": "python",
     "metadata": {},
     "outputs": []
    },
    {
     "cell_type": "code",
     "collapsed": false,
     "input": [
      "import unittest\n",
      "from unittest import TestCase\n",
      "\n",
      "class TestAnagrams(TestCase): #test\n",
      "    def test_basic_anagrams(self): \n",
      "        '''tests basic anagrams'''\n",
      "        self.assertEqual(['a'],anagramize('a'))\n",
      "        self.assertEqual([''],anagramize(''))"
     ],
     "language": "python",
     "metadata": {
      "slideshow": {
       "slide_type": "skip"
      }
     },
     "outputs": [],
     "prompt_number": 16
    },
    {
     "cell_type": "code",
     "collapsed": false,
     "input": [
      "anagramize('ab')"
     ],
     "language": "python",
     "metadata": {
      "slideshow": {
       "slide_type": "skip"
      }
     },
     "outputs": [
      {
       "metadata": {},
       "output_type": "pyout",
       "prompt_number": 29,
       "text": [
        "['ab', 'ba']"
       ]
      }
     ],
     "prompt_number": 29
    },
    {
     "cell_type": "code",
     "collapsed": false,
     "input": [
      "anagramize('abc')"
     ],
     "language": "python",
     "metadata": {
      "slideshow": {
       "slide_type": "skip"
      }
     },
     "outputs": [
      {
       "metadata": {},
       "output_type": "pyout",
       "prompt_number": 30,
       "text": [
        "['abc', 'acb', 'bac', 'bca', 'cab', 'cba']"
       ]
      }
     ],
     "prompt_number": 30
    },
    {
     "cell_type": "markdown",
     "metadata": {
      "slideshow": {
       "slide_type": "slide"
      }
     },
     "source": [
      "##Veamos un posible test:"
     ]
    },
    {
     "cell_type": "code",
     "collapsed": false,
     "input": [
      "class TestAnagrams(TestCase): #FALTA REVISAR!!!!!!\n",
      "    \n",
      "    def test_aprox1(self):\n",
      "        self.assertEqual(['a'],aprox1('a'))\n",
      "        self.assertEqual([''],aprox1(''))\n",
      "        \n",
      "    def test_aprox3(self):\n",
      "        self.assertEqual(6,len(set(aprox3('abc')))) #hay 6 soluciones y son diferentes\n",
      "        for word in aprox3('abc'):\n",
      "            for char in set('abc'):\n",
      "                self.assertIn(char in word)"
     ],
     "language": "python",
     "metadata": {
      "slideshow": {
       "slide_type": "skip"
      }
     },
     "outputs": [],
     "prompt_number": 26
    },
    {
     "cell_type": "code",
     "collapsed": false,
     "input": [],
     "language": "python",
     "metadata": {
      "slideshow": {
       "slide_type": "skip"
      }
     },
     "outputs": []
    },
    {
     "cell_type": "code",
     "collapsed": false,
     "input": [
      "def aprox4(characters): \n"
     ],
     "language": "python",
     "metadata": {
      "slideshow": {
       "slide_type": "skip"
      }
     },
     "outputs": [
      {
       "ename": "SyntaxError",
       "evalue": "unexpected EOF while parsing (<ipython-input-27-d8f06018099b>, line 1)",
       "output_type": "pyerr",
       "traceback": [
        "\u001b[1;36m  File \u001b[1;32m\"<ipython-input-27-d8f06018099b>\"\u001b[1;36m, line \u001b[1;32m1\u001b[0m\n\u001b[1;33m    def aprox4(characters):\u001b[0m\n\u001b[1;37m                            ^\u001b[0m\n\u001b[1;31mSyntaxError\u001b[0m\u001b[1;31m:\u001b[0m unexpected EOF while parsing\n"
       ]
      }
     ],
     "prompt_number": 27
    },
    {
     "cell_type": "code",
     "collapsed": false,
     "input": [
      "aprox4('abc')"
     ],
     "language": "python",
     "metadata": {
      "slideshow": {
       "slide_type": "skip"
      }
     },
     "outputs": [
      {
       "ename": "NameError",
       "evalue": "name 'aprox4' is not defined",
       "output_type": "pyerr",
       "traceback": [
        "\u001b[1;31m---------------------------------------------------------------------------\u001b[0m\n\u001b[1;31mNameError\u001b[0m                                 Traceback (most recent call last)",
        "\u001b[1;32m<ipython-input-13-e6ff80aef2c6>\u001b[0m in \u001b[0;36m<module>\u001b[1;34m()\u001b[0m\n\u001b[1;32m----> 1\u001b[1;33m \u001b[0maprox4\u001b[0m\u001b[1;33m(\u001b[0m\u001b[1;34m'abc'\u001b[0m\u001b[1;33m)\u001b[0m\u001b[1;33m\u001b[0m\u001b[0m\n\u001b[0m",
        "\u001b[1;31mNameError\u001b[0m: name 'aprox4' is not defined"
       ]
      }
     ],
     "prompt_number": 13
    },
    {
     "cell_type": "markdown",
     "metadata": {
      "slideshow": {
       "slide_type": "skip"
      }
     },
     "source": [
      "<center>\n",
      "<h1>Veamos algunas maneras </h1>\n",
      "<h1>MUY ELEGANTES de hacerlo.</h1>\n",
      "<h2>(No se esperaba que llegarais a algo parecido)</h2>\n",
      "</center>"
     ]
    },
    {
     "cell_type": "markdown",
     "metadata": {
      "slideshow": {
       "slide_type": "skip"
      }
     },
     "source": [
      "###Soluci\u00f3n ulizando funciones recursivas"
     ]
    },
    {
     "cell_type": "code",
     "collapsed": false,
     "input": [
      "def anagramize(word):\n",
      "    anagrams = []\n",
      "    \n",
      "    if len(word) < 2:\n",
      "        anagrams = [word]\n",
      "        \n",
      "    else:\n",
      "        for i,char in enumerate(word):\n",
      "            for perm in anagramize(word[:i]+word[i+1:]):\n",
      "                anagrams += [char + perm]\n",
      "                \n",
      "    return anagrams"
     ],
     "language": "python",
     "metadata": {
      "slideshow": {
       "slide_type": "skip"
      }
     },
     "outputs": [],
     "prompt_number": 16
    },
    {
     "cell_type": "code",
     "collapsed": false,
     "input": [
      "anagramize('abc')"
     ],
     "language": "python",
     "metadata": {
      "slideshow": {
       "slide_type": "skip"
      }
     },
     "outputs": [
      {
       "metadata": {},
       "output_type": "pyout",
       "prompt_number": 17,
       "text": [
        "['abc', 'acb', 'bac', 'bca', 'cab', 'cba']"
       ]
      }
     ],
     "prompt_number": 17
    },
    {
     "cell_type": "markdown",
     "metadata": {
      "slideshow": {
       "slide_type": "skip"
      }
     },
     "source": [
      "###Soluci\u00f3n ulizando generadores"
     ]
    },
    {
     "cell_type": "code",
     "collapsed": false,
     "input": [
      "def anagramize(word):\n",
      "    \n",
      "    if len(word) < 2:\n",
      "        yield word\n",
      "        \n",
      "    else:\n",
      "        for perm in anagramize(word[1:]):\n",
      "            for i in range(len(word)):\n",
      "                yield perm[:i] + word[0:1] + perm[i:]"
     ],
     "language": "python",
     "metadata": {
      "slideshow": {
       "slide_type": "skip"
      }
     },
     "outputs": [],
     "prompt_number": 36
    },
    {
     "cell_type": "code",
     "collapsed": false,
     "input": [
      "print [i for i in anagramize('abc')]"
     ],
     "language": "python",
     "metadata": {
      "slideshow": {
       "slide_type": "skip"
      }
     },
     "outputs": [
      {
       "output_type": "stream",
       "stream": "stdout",
       "text": [
        "['abc', 'bac', 'bca', 'acb', 'cab', 'cba']\n"
       ]
      }
     ],
     "prompt_number": 37
    },
    {
     "cell_type": "code",
     "collapsed": false,
     "input": [
      "list(anagramize('abc'))"
     ],
     "language": "python",
     "metadata": {
      "slideshow": {
       "slide_type": "skip"
      }
     },
     "outputs": [
      {
       "metadata": {},
       "output_type": "pyout",
       "prompt_number": 38,
       "text": [
        "['abc', 'bac', 'bca', 'acb', 'cab', 'cba']"
       ]
      }
     ],
     "prompt_number": 38
    },
    {
     "cell_type": "code",
     "collapsed": false,
     "input": [
      "f=anagramize('abc')\n",
      "f.next()"
     ],
     "language": "python",
     "metadata": {
      "slideshow": {
       "slide_type": "skip"
      }
     },
     "outputs": [
      {
       "metadata": {},
       "output_type": "pyout",
       "prompt_number": 39,
       "text": [
        "'abc'"
       ]
      }
     ],
     "prompt_number": 39
    },
    {
     "cell_type": "code",
     "collapsed": false,
     "input": [
      "f.next()"
     ],
     "language": "python",
     "metadata": {
      "slideshow": {
       "slide_type": "fragment"
      }
     },
     "outputs": [
      {
       "metadata": {},
       "output_type": "pyout",
       "prompt_number": 40,
       "text": [
        "'bac'"
       ]
      }
     ],
     "prompt_number": 40
    },
    {
     "cell_type": "markdown",
     "metadata": {
      "slideshow": {
       "slide_type": "skip"
      }
     },
     "source": [
      "<center>\n",
      "<h2>C\u00f3mo resoldria yo el problema?</h2>\n",
      "<h3>Seguramente utilizando librerias extras (intertools)</h3>\n",
      "</center>"
     ]
    },
    {
     "cell_type": "code",
     "collapsed": false,
     "input": [
      "import itertools\n",
      "\n",
      "def anagramize(word):\n",
      "    return [''.join(i) for i in itertools.permutations(word, len(word))]   "
     ],
     "language": "python",
     "metadata": {
      "slideshow": {
       "slide_type": "skip"
      }
     },
     "outputs": [],
     "prompt_number": 24
    },
    {
     "cell_type": "code",
     "collapsed": false,
     "input": [
      "anagramize('abc')"
     ],
     "language": "python",
     "metadata": {
      "slideshow": {
       "slide_type": "fragment"
      }
     },
     "outputs": [
      {
       "metadata": {},
       "output_type": "pyout",
       "prompt_number": 25,
       "text": [
        "['abc', 'acb', 'bac', 'bca', 'cab', 'cba']"
       ]
      }
     ],
     "prompt_number": 25
    },
    {
     "cell_type": "markdown",
     "metadata": {
      "slideshow": {
       "slide_type": "skip"
      }
     },
     "source": [
      "#Finalmente...   \n",
      "###Debemos resolver el problema sin que aparezcan anagramas repetidos\n",
      "\n",
      "Veamos un ejemplo:\n",
      "\n",
      "**INPUT: 'abb'**  \n",
      "**OUTPUT: ['abb', 'bab', 'bba']**"
     ]
    },
    {
     "cell_type": "code",
     "collapsed": false,
     "input": [
      "def anagramize_pro(characters): #falta revisar!!!!!!\n",
      "    anagrams = anagramize(characters)\n",
      "    print list(set(anagrams))"
     ],
     "language": "python",
     "metadata": {
      "slideshow": {
       "slide_type": "subslide"
      }
     },
     "outputs": [],
     "prompt_number": 41
    },
    {
     "cell_type": "code",
     "collapsed": false,
     "input": [
      "anagramize_pro('abb') #falta revisar!!!"
     ],
     "language": "python",
     "metadata": {
      "slideshow": {
       "slide_type": "skip"
      }
     },
     "outputs": [
      {
       "output_type": "stream",
       "stream": "stdout",
       "text": [
        "['abb', 'bab', 'bba']\n"
       ]
      }
     ],
     "prompt_number": 42
    },
    {
     "cell_type": "markdown",
     "metadata": {
      "slideshow": {
       "slide_type": "skip"
      }
     },
     "source": [
      "#Para pensar...\n",
      "###C\u00f3mo podr\u00edamos devolver los anagramas correspondientes a palabras v\u00e1lidas en un idioma?"
     ]
    },
    {
     "cell_type": "code",
     "collapsed": false,
     "input": [
      "#TESTS"
     ],
     "language": "python",
     "metadata": {
      "slideshow": {
       "slide_type": "skip"
      }
     },
     "outputs": []
    },
    {
     "cell_type": "code",
     "collapsed": false,
     "input": [
      "import unittest\n",
      "from unittest import TestCase"
     ],
     "language": "python",
     "metadata": {
      "slideshow": {
       "slide_type": "skip"
      }
     },
     "outputs": [],
     "prompt_number": 4
    },
    {
     "cell_type": "code",
     "collapsed": false,
     "input": [
      "class TestAnagrams(TestCase):\n",
      "    \n",
      "    def test_aprox1(self):\n",
      "        self.assertEqual(['a'],aprox1('a'))\n",
      "        self.assertEqual([''],aprox1(''))\n",
      "        \n",
      "    def test_aprox2(self):\n",
      "        self.assertEqual(6,len(aprox2('abc')))\n",
      "        \n",
      "    def test_aprox3(self):\n",
      "        self.assertEqual(6,len(set(aprox3('abc')))) #comprovem que son 6 y son diferents\n",
      "        for word in aprox3('abc'):\n",
      "            for char in set('abc'):\n",
      "                self.assertTrue(char in word)\n",
      "                \n",
      "                \n",
      "    \n",
      "def suite():\n",
      "    \n",
      "    testcases = [TestAnagrams]\n",
      "    \n",
      "    suites = unittest.TestSuite([unittest.TestLoader().loadTestsFromTestCase(testcase) for testcase in testcases])\n",
      "    return suites  \n",
      "\n",
      "# use the TextTestRunner to run suite\n",
      "testresults = unittest.TextTestRunner().run(suite()) "
     ],
     "language": "python",
     "metadata": {
      "slideshow": {
       "slide_type": "skip"
      }
     },
     "outputs": [
      {
       "output_type": "stream",
       "stream": "stderr",
       "text": [
        "."
       ]
      },
      {
       "output_type": "stream",
       "stream": "stderr",
       "text": [
        "."
       ]
      },
      {
       "output_type": "stream",
       "stream": "stderr",
       "text": [
        "."
       ]
      },
      {
       "output_type": "stream",
       "stream": "stderr",
       "text": [
        "\n",
        "----------------------------------------------------------------------\n",
        "Ran 3 tests in 0.002s\n",
        "\n",
        "OK\n"
       ]
      }
     ],
     "prompt_number": 27
    },
    {
     "cell_type": "code",
     "collapsed": false,
     "input": [
      "!ipython nbconvert Anagramas.ipynb --to slides --post serve"
     ],
     "language": "python",
     "metadata": {
      "slideshow": {
       "slide_type": "skip"
      }
     },
     "outputs": [
      {
       "output_type": "stream",
       "stream": "stdout",
       "text": [
        "[NbConvertApp] Using existing profile dir: u'/home/nuria/.ipython/profile_default'\r\n"
       ]
      },
      {
       "output_type": "stream",
       "stream": "stdout",
       "text": [
        "[NbConvertApp] Converting notebook Anagramas.ipynb to slides\r\n",
        "[NbConvertApp] Support files will be in Anagramas_files/\r\n"
       ]
      },
      {
       "output_type": "stream",
       "stream": "stdout",
       "text": [
        "[NbConvertApp] Loaded template slides_reveal.tpl\r\n"
       ]
      },
      {
       "output_type": "stream",
       "stream": "stdout",
       "text": [
        "/usr/local/lib/python2.7/dist-packages/IPython/nbconvert/filters/markdown.py:78: UserWarning: Node.js 0.9.12 or later wasn't found.\r\n",
        "Nbconvert will try to use Pandoc instead.\r\n",
        "  \"Nbconvert will try to use Pandoc instead.\")\r\n",
        "/usr/local/lib/python2.7/dist-packages/IPython/nbconvert/utils/pandoc.py:63: RuntimeWarning: You are using an old version of pandoc (1.9.1)\r\n",
        "Recommended version is 1.12.1.\r\n",
        "Try updating.http://johnmacfarlane.net/pandoc/installing.html.\r\n",
        "Continuing with doubts...\r\n",
        "  check_pandoc_version()\r\n"
       ]
      },
      {
       "output_type": "stream",
       "stream": "stdout",
       "text": [
        "[NbConvertApp] Writing 226907 bytes to Anagramas.slides.html\r\n",
        "[NbConvertApp] Redirecting reveal.js requests to https://cdn.jsdelivr.net/reveal.js/2.5.0\r\n",
        "Serving your slides at http://127.0.0.1:8000/Anagramas.slides.html\r\n",
        "Use Control-C to stop this server\r\n"
       ]
      },
      {
       "output_type": "stream",
       "stream": "stdout",
       "text": [
        "WARNING:tornado.access:404 GET /custom.css (127.0.0.1) 0.79ms\r\n"
       ]
      },
      {
       "output_type": "stream",
       "stream": "stdout",
       "text": [
        "WARNING:tornado.access:404 GET /custom.css (127.0.0.1) 0.71ms\r\n"
       ]
      }
     ]
    },
    {
     "cell_type": "code",
     "collapsed": false,
     "input": [],
     "language": "python",
     "metadata": {
      "slideshow": {
       "slide_type": "skip"
      }
     },
     "outputs": []
    }
   ],
   "metadata": {}
  }
 ]
}