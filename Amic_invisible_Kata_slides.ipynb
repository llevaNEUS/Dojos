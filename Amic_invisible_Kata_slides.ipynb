{
 "metadata": {
  "celltoolbar": "Slideshow",
  "name": "",
  "signature": "sha256:cf949b8f5584cffd73c3a8695f48549c11aa695044021675b14044c6f0453344"
 },
 "nbformat": 3,
 "nbformat_minor": 0,
 "worksheets": [
  {
   "cells": [
    {
     "cell_type": "markdown",
     "metadata": {
      "slideshow": {
       "slide_type": "slide"
      }
     },
     "source": [
      "<center>\n",
      "<h1>KATA NAVIDE\u00d1A</h1>\n",
      "<h2>El amigo invisible</h2>\n",
      "<img src=\"http://www.webdesignhot.com/wp-content/uploads/2010/11/GiftBoxeswithRibbonVectorIllustration.jpg\" width=\"400\">\n",
      "</center>"
     ]
    },
    {
     "cell_type": "markdown",
     "metadata": {
      "slideshow": {
       "slide_type": "slide"
      }
     },
     "source": [
      "<center>\n",
      "<h2>PUNTO 1:</h2><br>\n",
      "Un grupo de compa\u00f1eros de trabajo (inform\u00e1ticos) quieren realizar un \"Amigo Invisible\" y celebrar as\u00ed las Navidades juntos.<br>\n",
      "\n",
      "<h2>LOS AYUDAS?</H2>\n",
      "</center>"
     ]
    },
    {
     "cell_type": "markdown",
     "metadata": {
      "slideshow": {
       "slide_type": "fragment"
      }
     },
     "source": [
      "<center>\n",
      "<img src=\"http://fc08.deviantart.net/fs71/i/2011/275/c/4/it_crowd_by_sudeepdash-d3b9182.png\" width=\"450\">\n",
      "</center>"
     ]
    },
    {
     "cell_type": "markdown",
     "metadata": {
      "slideshow": {
       "slide_type": "slide"
      }
     },
     "source": [
      "Tenemos la siguiente lista de compa\u00f1eros que quieren participar:"
     ]
    },
    {
     "cell_type": "code",
     "collapsed": false,
     "input": [
      "compis=['Ana','Pablo','Pedro','Manuel','Maria']"
     ],
     "language": "python",
     "metadata": {
      "slideshow": {
       "slide_type": "fragment"
      }
     },
     "outputs": [],
     "prompt_number": 143
    },
    {
     "cell_type": "markdown",
     "metadata": {
      "slideshow": {
       "slide_type": "fragment"
      }
     },
     "source": [
      "Se debe cumplir que:  \n",
      "* Todos los componentes de la oficina comprar\u00e1n un s\u00f3lo regalo y recibir\u00e1n un s\u00f3lo regalo.  \n",
      "* No est\u00e1 permitido realizar y recibir el regalo de la misma persona.\n",
      "    \n",
      "**Ejemplo de salida (puede ser otro formato):**"
     ]
    },
    {
     "cell_type": "code",
     "collapsed": false,
     "input": [
      "[('Ana', 'Pablo'), ('Pablo', 'Pedro'), ('Pedro', 'Manuel'), ('Manuel', 'Maria'), ('Maria', 'Ana')]"
     ],
     "language": "python",
     "metadata": {
      "slideshow": {
       "slide_type": "fragment"
      }
     },
     "outputs": [
      {
       "metadata": {},
       "output_type": "pyout",
       "prompt_number": 144,
       "text": [
        "[('Ana', 'Pablo'),\n",
        " ('Pablo', 'Pedro'),\n",
        " ('Pedro', 'Manuel'),\n",
        " ('Manuel', 'Maria'),\n",
        " ('Maria', 'Ana')]"
       ]
      }
     ],
     "prompt_number": 144
    },
    {
     "cell_type": "markdown",
     "metadata": {
      "slideshow": {
       "slide_type": "subslide"
      }
     },
     "source": [
      "**Posible soluci\u00f3n (ni la \u00fanica, ni la mejor):**"
     ]
    },
    {
     "cell_type": "code",
     "collapsed": false,
     "input": [
      "compis=['Ana','Pablo','Pedro','Manuel','Maria']\n",
      "compis_bis=compis[1:]+compis[:1]\n",
      "compis_bis"
     ],
     "language": "python",
     "metadata": {
      "slideshow": {
       "slide_type": "fragment"
      }
     },
     "outputs": [
      {
       "metadata": {},
       "output_type": "pyout",
       "prompt_number": 145,
       "text": [
        "['Pablo', 'Pedro', 'Manuel', 'Maria', 'Ana']"
       ]
      }
     ],
     "prompt_number": 145
    },
    {
     "cell_type": "code",
     "collapsed": false,
     "input": [
      "#opci\u00f3n 1\n",
      "regalos=[]\n",
      "\n",
      "for i,name in enumerate(compis):\n",
      "    regalos.append((name,compis_bis[i]))\n",
      "    \n",
      "regalos"
     ],
     "language": "python",
     "metadata": {
      "slideshow": {
       "slide_type": "fragment"
      }
     },
     "outputs": [
      {
       "metadata": {},
       "output_type": "pyout",
       "prompt_number": 146,
       "text": [
        "[('Ana', 'Pablo'),\n",
        " ('Pablo', 'Pedro'),\n",
        " ('Pedro', 'Manuel'),\n",
        " ('Manuel', 'Maria'),\n",
        " ('Maria', 'Ana')]"
       ]
      }
     ],
     "prompt_number": 146
    },
    {
     "cell_type": "code",
     "collapsed": false,
     "input": [
      "#opci\u00f3n 2\n",
      "regalos2=zip(compis,compis_bis)\n",
      "regalos2"
     ],
     "language": "python",
     "metadata": {
      "slideshow": {
       "slide_type": "fragment"
      }
     },
     "outputs": [
      {
       "metadata": {},
       "output_type": "pyout",
       "prompt_number": 147,
       "text": [
        "[('Ana', 'Pablo'),\n",
        " ('Pablo', 'Pedro'),\n",
        " ('Pedro', 'Manuel'),\n",
        " ('Manuel', 'Maria'),\n",
        " ('Maria', 'Ana')]"
       ]
      }
     ],
     "prompt_number": 147
    },
    {
     "cell_type": "markdown",
     "metadata": {
      "slideshow": {
       "slide_type": "slide"
      }
     },
     "source": [
      "<center>\n",
      "<h2>PUNTO 2:</h2><br>\n",
      "</center>\n",
      "* Introducir cierta aleatoriedad para poder utilizar el mismo algoritmo el pr\u00f3ximo a\u00f1o"
     ]
    },
    {
     "cell_type": "code",
     "collapsed": false,
     "input": [
      "import random"
     ],
     "language": "python",
     "metadata": {
      "slideshow": {
       "slide_type": "fragment"
      }
     },
     "outputs": [],
     "prompt_number": 148
    },
    {
     "cell_type": "markdown",
     "metadata": {
      "slideshow": {
       "slide_type": "subslide"
      }
     },
     "source": [
      "**Posible soluci\u00f3n:**"
     ]
    },
    {
     "cell_type": "code",
     "collapsed": false,
     "input": [
      "from random import shuffle,randint"
     ],
     "language": "python",
     "metadata": {
      "slideshow": {
       "slide_type": "fragment"
      }
     },
     "outputs": [],
     "prompt_number": 149
    },
    {
     "cell_type": "code",
     "collapsed": false,
     "input": [
      "compis=['Ana','Pablo','Pedro','Manuel','Maria']\n",
      "shuffle(compis) #desordenamos los nombres de la lista anterior\n",
      "compis"
     ],
     "language": "python",
     "metadata": {
      "slideshow": {
       "slide_type": "fragment"
      }
     },
     "outputs": [
      {
       "metadata": {},
       "output_type": "pyout",
       "prompt_number": 150,
       "text": [
        "['Manuel', 'Pedro', 'Pablo', 'Ana', 'Maria']"
       ]
      }
     ],
     "prompt_number": 150
    },
    {
     "cell_type": "code",
     "collapsed": false,
     "input": [
      "jump=randint(1,len(compis)-1)\n",
      "jump #esta vez el n\u00famero de posiciones que se desplaza a la izquierda tb es aleatorio"
     ],
     "language": "python",
     "metadata": {
      "slideshow": {
       "slide_type": "fragment"
      }
     },
     "outputs": [
      {
       "metadata": {},
       "output_type": "pyout",
       "prompt_number": 151,
       "text": [
        "4"
       ]
      }
     ],
     "prompt_number": 151
    },
    {
     "cell_type": "code",
     "collapsed": false,
     "input": [
      "compis_bis=compis[jump:]+compis[:jump]\n",
      "compis_bis"
     ],
     "language": "python",
     "metadata": {
      "slideshow": {
       "slide_type": "fragment"
      }
     },
     "outputs": [
      {
       "metadata": {},
       "output_type": "pyout",
       "prompt_number": 152,
       "text": [
        "['Maria', 'Manuel', 'Pedro', 'Pablo', 'Ana']"
       ]
      }
     ],
     "prompt_number": 152
    },
    {
     "cell_type": "code",
     "collapsed": false,
     "input": [
      "regalos=zip(compis,compis_bis)\n",
      "regalos"
     ],
     "language": "python",
     "metadata": {
      "slideshow": {
       "slide_type": "fragment"
      }
     },
     "outputs": [
      {
       "metadata": {},
       "output_type": "pyout",
       "prompt_number": 37,
       "text": [
        "[('Maria', 'Manuel'),\n",
        " ('Ana', 'Maria'),\n",
        " ('Pablo', 'Ana'),\n",
        " ('Pedro', 'Pablo'),\n",
        " ('Manuel', 'Pedro')]"
       ]
      }
     ],
     "prompt_number": 37
    },
    {
     "cell_type": "markdown",
     "metadata": {
      "slideshow": {
       "slide_type": "slide"
      }
     },
     "source": [
      "<center>\n",
      "<h2>PUNTO 3:</h2><br>\n",
      "</center>\n",
      "Esta vez todos los de la oficina no se conocen lo suficiente c\u00f3mo para hacerse unregalo. Incluso algunos son de departamentos diferentes.  \n",
      "En este caso se har\u00e1 una simulaci\u00f3n con un caso muy senzillo con 4 compa\u00f1eros y una relaci\u00f3n descrita por los elementos de *relationship*.  "
     ]
    },
    {
     "cell_type": "code",
     "collapsed": false,
     "input": [
      "compis=['Ana','Pablo','Pedro','Manuel']\n",
      "relationship=[(0,1),(0,2),(1,3),(2,3)] \n",
      "#los n\u00fameros corresponen al \u00edndice dentro de la lista \"compis\"\n",
      "# las relaciones describen un quadrado  "
     ],
     "language": "python",
     "metadata": {
      "slideshow": {
       "slide_type": "fragment"
      }
     },
     "outputs": [],
     "prompt_number": 153
    },
    {
     "cell_type": "markdown",
     "metadata": {
      "slideshow": {
       "slide_type": "subslide"
      }
     },
     "source": [
      "<center>\n",
      "<img src=\"http://mathworld.wolfram.com/images/eps-gif/SquareGraph_800.gif\" width=\"450\">\n",
      "</center>"
     ]
    },
    {
     "cell_type": "markdown",
     "metadata": {
      "slideshow": {
       "slide_type": "subslide"
      }
     },
     "source": [
      "**Posible soluci\u00f3n:**"
     ]
    },
    {
     "cell_type": "code",
     "collapsed": false,
     "input": [
      "import numpy \n",
      "from random import choice\n",
      "\n",
      "adjacents=numpy.zeros((len(compis),len(compis)),dtype=int)\n",
      "adjacents"
     ],
     "language": "python",
     "metadata": {
      "slideshow": {
       "slide_type": "fragment"
      }
     },
     "outputs": [
      {
       "metadata": {},
       "output_type": "pyout",
       "prompt_number": 154,
       "text": [
        "array([[0, 0, 0, 0],\n",
        "       [0, 0, 0, 0],\n",
        "       [0, 0, 0, 0],\n",
        "       [0, 0, 0, 0]])"
       ]
      }
     ],
     "prompt_number": 154
    },
    {
     "cell_type": "code",
     "collapsed": false,
     "input": [
      "for i,j in relationship:\n",
      "    adjacents[i][j] = 1 #o True si hemos inicializados a 'False'\n",
      "    adjacents[j][i] = 1 #o True si hemos inicializados a 'False'\n",
      "    \n",
      "adjacents \n",
      "#nos indica los nodos que se encutnradan conectados (valor = 1)\n",
      "#es otra manera de representar el vector de relacionesfor i,j in relationship."
     ],
     "language": "python",
     "metadata": {
      "slideshow": {
       "slide_type": "fragment"
      }
     },
     "outputs": [
      {
       "metadata": {},
       "output_type": "pyout",
       "prompt_number": 155,
       "text": [
        "array([[0, 1, 1, 0],\n",
        "       [1, 0, 0, 1],\n",
        "       [1, 0, 0, 1],\n",
        "       [0, 1, 1, 0]])"
       ]
      }
     ],
     "prompt_number": 155
    },
    {
     "cell_type": "code",
     "collapsed": false,
     "input": [
      "options_regalos=[(i,j) for i,array in enumerate(adjacents) for j,element in enumerate(array) if element ==1]\n",
      "options_regalos #otra manera de representar la matriz anterior"
     ],
     "language": "python",
     "metadata": {
      "slideshow": {
       "slide_type": "fragment"
      }
     },
     "outputs": [
      {
       "metadata": {},
       "output_type": "pyout",
       "prompt_number": 156,
       "text": [
        "[(0, 1), (0, 2), (1, 0), (1, 3), (2, 0), (2, 3), (3, 1), (3, 2)]"
       ]
      }
     ],
     "prompt_number": 156
    },
    {
     "cell_type": "code",
     "collapsed": false,
     "input": [
      "regalos_num=[]\n",
      "while len(options_regalos)!=0:\n",
      "    print adjacents\n",
      "    \n",
      "    op = choice(options_regalos) #el valor escogido es (i,j)\n",
      "    regalos_num.append(op)\n",
      "\n",
      "    #el elemento (i,j) y (j,i) pasar a valor 0\n",
      "    #podremos a 0 la fila i y la columna j #(i,j) esta incluido aki dentro\n",
      "    \n",
      "    adjacents[op[0]]=0 #fila donde op[0] regala\n",
      "    adjacents[:,op[1]]=0 #columna done op[1] recibe regalo\n",
      "    adjacents[op[1],op[0]]=0\n",
      "    \n",
      "    options_regalos=[(i,j) for i,array in enumerate(adjacents) for j,element in enumerate(array) if element ==1]"
     ],
     "language": "python",
     "metadata": {
      "slideshow": {
       "slide_type": "subslide"
      }
     },
     "outputs": [
      {
       "output_type": "stream",
       "stream": "stdout",
       "text": [
        "[[0 1 1 0]\n",
        " [1 0 0 1]\n",
        " [1 0 0 1]\n",
        " [0 1 1 0]]\n",
        "[[0 0 0 0]\n",
        " [0 0 0 1]\n",
        " [1 0 0 1]\n",
        " [0 0 1 0]]\n",
        "[[0 0 0 0]\n",
        " [0 0 0 1]\n",
        " [1 0 0 0]\n",
        " [0 0 0 0]]\n",
        "[[0 0 0 0]\n",
        " [0 0 0 0]\n",
        " [1 0 0 0]\n",
        " [0 0 0 0]]\n"
       ]
      }
     ],
     "prompt_number": 157
    },
    {
     "cell_type": "code",
     "collapsed": false,
     "input": [
      "regalos_num"
     ],
     "language": "python",
     "metadata": {
      "slideshow": {
       "slide_type": "subslide"
      }
     },
     "outputs": [
      {
       "metadata": {},
       "output_type": "pyout",
       "prompt_number": 158,
       "text": [
        "[(0, 1), (3, 2), (1, 3), (2, 0)]"
       ]
      }
     ],
     "prompt_number": 158
    },
    {
     "cell_type": "code",
     "collapsed": false,
     "input": [
      "compis=['Ana','Pablo','Pedro','Manuel']\n",
      "regalos = []\n",
      "\n",
      "for i,j in regalos_num:\n",
      "    regalos.append([compis[i],compis[j]])\n",
      "\n",
      "regalos"
     ],
     "language": "python",
     "metadata": {
      "slideshow": {
       "slide_type": "fragment"
      }
     },
     "outputs": [
      {
       "metadata": {},
       "output_type": "pyout",
       "prompt_number": 159,
       "text": [
        "[['Ana', 'Pablo'], ['Manuel', 'Pedro'], ['Pablo', 'Manuel'], ['Pedro', 'Ana']]"
       ]
      }
     ],
     "prompt_number": 159
    },
    {
     "cell_type": "code",
     "collapsed": false,
     "input": [
      "!ipython nbconvert --to slides Amic_invisible_Kata_slides.ipynb --post serve"
     ],
     "language": "python",
     "metadata": {
      "slideshow": {
       "slide_type": "skip"
      }
     },
     "outputs": [
      {
       "output_type": "stream",
       "stream": "stdout",
       "text": [
        "[NbConvertApp] Using existing profile dir: u'/home/nuria/.ipython/profile_default'\r\n"
       ]
      },
      {
       "output_type": "stream",
       "stream": "stdout",
       "text": [
        "[NbConvertApp] Converting notebook Amic_invisible_Kata_slides.ipynb to slides\r\n",
        "[NbConvertApp] Support files will be in Amic_invisible_Kata_slides_files/\r\n"
       ]
      },
      {
       "output_type": "stream",
       "stream": "stdout",
       "text": [
        "[NbConvertApp] Loaded template slides_reveal.tpl\r\n"
       ]
      },
      {
       "output_type": "stream",
       "stream": "stdout",
       "text": [
        "/usr/local/lib/python2.7/dist-packages/IPython/nbconvert/filters/markdown.py:78: UserWarning: Node.js 0.9.12 or later wasn't found.\r\n",
        "Nbconvert will try to use Pandoc instead.\r\n",
        "  \"Nbconvert will try to use Pandoc instead.\")\r\n",
        "/usr/local/lib/python2.7/dist-packages/IPython/nbconvert/utils/pandoc.py:63: RuntimeWarning: You are using an old version of pandoc (1.9.1)\r\n",
        "Recommended version is 1.12.1.\r\n",
        "Try updating.http://johnmacfarlane.net/pandoc/installing.html.\r\n",
        "Continuing with doubts...\r\n",
        "  check_pandoc_version()\r\n"
       ]
      },
      {
       "output_type": "stream",
       "stream": "stdout",
       "text": [
        "[NbConvertApp] Writing 215089 bytes to Amic_invisible_Kata_slides.slides.html\r\n",
        "[NbConvertApp] Redirecting reveal.js requests to https://cdn.jsdelivr.net/reveal.js/2.5.0\r\n",
        "Serving your slides at http://127.0.0.1:8000/Amic_invisible_Kata_slides.slides.html\r\n",
        "Use Control-C to stop this server\r\n"
       ]
      },
      {
       "output_type": "stream",
       "stream": "stdout",
       "text": [
        "WARNING:tornado.access:404 GET /custom.css (127.0.0.1) 0.61ms\r\n"
       ]
      },
      {
       "output_type": "stream",
       "stream": "stdout",
       "text": [
        "WARNING:tornado.access:404 GET /custom.css (127.0.0.1) 0.75ms\r\n"
       ]
      }
     ]
    },
    {
     "cell_type": "code",
     "collapsed": false,
     "input": [],
     "language": "python",
     "metadata": {
      "slideshow": {
       "slide_type": "skip"
      }
     },
     "outputs": []
    }
   ],
   "metadata": {}
  }
 ]
}